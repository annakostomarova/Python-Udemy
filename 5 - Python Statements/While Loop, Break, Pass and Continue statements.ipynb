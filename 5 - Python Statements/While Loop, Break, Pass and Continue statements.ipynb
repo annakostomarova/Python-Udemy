{
 "cells": [
  {
   "cell_type": "code",
   "execution_count": 9,
   "metadata": {},
   "outputs": [
    {
     "name": "stdout",
     "output_type": "stream",
     "text": [
      "The current temperature is 24\n",
      "The current temperature is 23\n",
      "The current temperature is 22\n",
      "The current temperature is 21\n"
     ]
    }
   ],
   "source": [
    "temp = 25\n",
    "\n",
    "while temp > 21:\n",
    "    temp -= 1\n",
    "    print(f'The current temperature is {temp}')"
   ]
  },
  {
   "cell_type": "code",
   "execution_count": 10,
   "metadata": {},
   "outputs": [
    {
     "name": "stdout",
     "output_type": "stream",
     "text": [
      "The current temperature is 24\n",
      "The current temperature is 23\n",
      "The current temperature is 22\n",
      "The current temperature is 21\n",
      "The temperature is too low\n"
     ]
    }
   ],
   "source": [
    "temp = 25\n",
    "\n",
    "while temp > 21:\n",
    "    temp -= 1\n",
    "    print(f'The current temperature is {temp}')\n",
    "else:\n",
    "    print(f'The temperature is too low')"
   ]
  },
  {
   "cell_type": "code",
   "execution_count": 12,
   "metadata": {},
   "outputs": [
    {
     "name": "stdout",
     "output_type": "stream",
     "text": [
      "end of script\n",
      "end of script\n",
      "end of script\n",
      "end of script\n"
     ]
    }
   ],
   "source": [
    "x = [2,5,1,6]\n",
    "\n",
    "for item in x:\n",
    "    #comment - if we just leave a comment, without pass, syntax error will display\n",
    "    # pass means NOT do anything\n",
    "    pass\n",
    "    print('end of script')"
   ]
  },
  {
   "cell_type": "code",
   "execution_count": 13,
   "metadata": {},
   "outputs": [],
   "source": [
    "mystring = 'Sammy'"
   ]
  },
  {
   "cell_type": "code",
   "execution_count": 15,
   "metadata": {},
   "outputs": [
    {
     "name": "stdout",
     "output_type": "stream",
     "text": [
      "S\n",
      "m\n",
      "m\n",
      "y\n"
     ]
    }
   ],
   "source": [
    "for letter in mystring:\n",
    "    if letter == 'a':\n",
    "        continue\n",
    "        # continue  goes to the toop of the loop once it reached 'a'. So 'a' won't be printed in this case\n",
    "    print(letter)"
   ]
  },
  {
   "cell_type": "code",
   "execution_count": 17,
   "metadata": {},
   "outputs": [
    {
     "name": "stdout",
     "output_type": "stream",
     "text": [
      "0\n",
      "1\n",
      "2\n",
      "3\n",
      "4\n"
     ]
    }
   ],
   "source": [
    "x = 0\n",
    "\n",
    "while x < 5:\n",
    "    print(x)\n",
    "    x +=1"
   ]
  },
  {
   "cell_type": "code",
   "execution_count": 19,
   "metadata": {},
   "outputs": [
    {
     "name": "stdout",
     "output_type": "stream",
     "text": [
      "0\n",
      "1\n",
      "2\n",
      "3\n"
     ]
    }
   ],
   "source": [
    "# Now if I won't to stop the script if at some point x == 9, if need to use break\n",
    "\n",
    "x = 0\n",
    "\n",
    "while x < 5:\n",
    "    \n",
    "    if x == 4:\n",
    "        break\n",
    "        \n",
    "    print(x)\n",
    "    x +=1"
   ]
  },
  {
   "cell_type": "code",
   "execution_count": null,
   "metadata": {},
   "outputs": [],
   "source": []
  }
 ],
 "metadata": {
  "kernelspec": {
   "display_name": "Python 3",
   "language": "python",
   "name": "python3"
  },
  "language_info": {
   "codemirror_mode": {
    "name": "ipython",
    "version": 3
   },
   "file_extension": ".py",
   "mimetype": "text/x-python",
   "name": "python",
   "nbconvert_exporter": "python",
   "pygments_lexer": "ipython3",
   "version": "3.7.0"
  }
 },
 "nbformat": 4,
 "nbformat_minor": 2
}
