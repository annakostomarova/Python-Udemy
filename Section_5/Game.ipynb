{
 "cells": [
  {
   "cell_type": "code",
   "execution_count": 2,
   "metadata": {},
   "outputs": [
    {
     "name": "stdout",
     "output_type": "stream",
     "text": [
      "43\n"
     ]
    }
   ],
   "source": [
    "import random\n",
    "\n",
    "rannum = random.randint(1,100)\n",
    "print(rannum)"
   ]
  },
  {
   "cell_type": "code",
   "execution_count": 3,
   "metadata": {},
   "outputs": [],
   "source": [
    "gueslist = [0]"
   ]
  },
  {
   "cell_type": "code",
   "execution_count": 4,
   "metadata": {},
   "outputs": [
    {
     "name": "stdout",
     "output_type": "stream",
     "text": [
      "What is guessed number? 76\n",
      "COLD!\n",
      "What is guessed number? 34\n",
      "WARMER!\n",
      "What is guessed number? 39\n",
      "WARMER!\n",
      "What is guessed number? 45\n",
      "WARMER!\n",
      "What is guessed number? 48\n",
      "COLDER!\n",
      "What is guessed number? 47\n",
      "WARMER!\n",
      "What is guessed number? 45\n",
      "WARMER!\n",
      "What is guessed number? 46\n",
      "COLDER!\n",
      "What is guessed number? 44\n",
      "WARMER!\n",
      "What is guessed number? 43\n",
      "CORRECT! YOU WON! It took you 10 attempts\n"
     ]
    }
   ],
   "source": [
    "while True:\n",
    "    \n",
    "    # Asking for input numbers\n",
    "    guesnum = int(input('What is guessed number? '))\n",
    "    \n",
    "    # If input number is out of range [1,100] print error \n",
    "    if (guesnum < 1 or guesnum > 100):\n",
    "        print('OUT OF BOUNDS. Please try again')\n",
    "        continue\n",
    "                \n",
    "    # If the guessed number is the same as random, print success message. \n",
    "    # The amount of attempts will be the same as amount of members in list of guesses\n",
    "    if(guesnum == rannum):\n",
    "        print(f'CORRECT! YOU WON! It took you {len(gueslist)} attempts')\n",
    "        break\n",
    "        \n",
    "    # If numbers are valid but incorrect store them in list\n",
    "    gueslist.append(guesnum)\n",
    "    \n",
    "    \n",
    "    # When testing first attemtp gueslist[0] == gueslist[-2] which is 0\n",
    "    # Since 0 is out of [1,100] it's always False which leads to ELSE\n",
    "    \n",
    "    if gueslist[-2]:  \n",
    "        if abs(rannum-guesnum) < abs(rannum-gueslist[-2]):\n",
    "            print('WARMER!')\n",
    "        else:\n",
    "            print('COLDER!')\n",
    "   \n",
    "    else:\n",
    "        if abs(rannum-guesnum) <= 10:\n",
    "            print('WARM!')\n",
    "        else:\n",
    "            print('COLD!')"
   ]
  },
  {
   "cell_type": "code",
   "execution_count": null,
   "metadata": {},
   "outputs": [],
   "source": []
  }
 ],
 "metadata": {
  "kernelspec": {
   "display_name": "Python 3",
   "language": "python",
   "name": "python3"
  },
  "language_info": {
   "codemirror_mode": {
    "name": "ipython",
    "version": 3
   },
   "file_extension": ".py",
   "mimetype": "text/x-python",
   "name": "python",
   "nbconvert_exporter": "python",
   "pygments_lexer": "ipython3",
   "version": "3.7.0"
  }
 },
 "nbformat": 4,
 "nbformat_minor": 2
}
